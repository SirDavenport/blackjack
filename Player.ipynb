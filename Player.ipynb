{
 "cells": [
  {
   "cell_type": "code",
   "execution_count": 31,
   "metadata": {},
   "outputs": [],
   "source": [
    "class Player:\n",
    "    def __init__(self, name, money):\n",
    "        self.name = name\n",
    "        self.money = money\n",
    "        self.hand = []\n",
    "    \n",
    "    def addMoney(self, amt):\n",
    "        self.money += amt\n",
    "    \n",
    "    def loseMoney(self, amt):\n",
    "        self.money -= amt\n",
    "    \n",
    "    def enoughToBet(self, amt):\n",
    "        return self.money >= amt\n",
    "    \n",
    "    def bet(self):\n",
    "        while True:\n",
    "            try:\n",
    "                amt = int(input(\"How much would you like to bet? \"))\n",
    "                if not self.enoughToBet(amt):\n",
    "                    raise ValueError()\n",
    "            except:\n",
    "                print(\"Please enter a number less than or equal to your bank\")\n",
    "            else:\n",
    "                self.betAmount = amt\n",
    "                break\n",
    "    \n",
    "    def addCardToHand(self, card):\n",
    "        self.hand.append(card)"
   ]
  },
  {
   "cell_type": "code",
   "execution_count": 32,
   "metadata": {},
   "outputs": [],
   "source": [
    "player = Player(\"Derek\", 100)"
   ]
  },
  {
   "cell_type": "code",
   "execution_count": 33,
   "metadata": {},
   "outputs": [
    {
     "name": "stdout",
     "output_type": "stream",
     "text": [
      "How much would you like to bet? 10\n"
     ]
    }
   ],
   "source": [
    "player.bet()"
   ]
  },
  {
   "cell_type": "code",
   "execution_count": 34,
   "metadata": {},
   "outputs": [
    {
     "data": {
      "text/plain": [
       "10"
      ]
     },
     "execution_count": 34,
     "metadata": {},
     "output_type": "execute_result"
    }
   ],
   "source": [
    "player.betAmount\n"
   ]
  },
  {
   "cell_type": "code",
   "execution_count": 35,
   "metadata": {},
   "outputs": [],
   "source": [
    "player.addCardToHand('card')"
   ]
  },
  {
   "cell_type": "code",
   "execution_count": 37,
   "metadata": {},
   "outputs": [
    {
     "data": {
      "text/plain": [
       "['card']"
      ]
     },
     "execution_count": 37,
     "metadata": {},
     "output_type": "execute_result"
    }
   ],
   "source": [
    "player.hand"
   ]
  },
  {
   "cell_type": "code",
   "execution_count": null,
   "metadata": {},
   "outputs": [],
   "source": []
  }
 ],
 "metadata": {
  "kernelspec": {
   "display_name": "Python 3",
   "language": "python",
   "name": "python3"
  },
  "language_info": {
   "codemirror_mode": {
    "name": "ipython",
    "version": 3
   },
   "file_extension": ".py",
   "mimetype": "text/x-python",
   "name": "python",
   "nbconvert_exporter": "python",
   "pygments_lexer": "ipython3",
   "version": "3.7.0"
  }
 },
 "nbformat": 4,
 "nbformat_minor": 2
}
